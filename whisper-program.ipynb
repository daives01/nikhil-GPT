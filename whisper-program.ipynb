{
 "cells": [
  {
   "cell_type": "code",
   "execution_count": null,
   "id": "13ae3525",
   "metadata": {},
   "outputs": [
    {
     "name": "stdout",
     "output_type": "stream",
     "text": [
      "Enter model size for Whisper to use (leave empty to default to \"base\"): tiny\n",
      "Enter name of directory containing audio files (leave empty to default to \"Audio\"): TestAudio\n",
      "Running tiny Whisper model over TestAudio ...\n",
      "Detected language: English\n"
     ]
    },
    {
     "name": "stderr",
     "output_type": "stream",
     "text": [
      " 97%|████████████████████████████████████████████████████████████████████████▉  | 328446/337446 [01:59<00:03, 2742.72frames/s]\n"
     ]
    },
    {
     "name": "stdout",
     "output_type": "stream",
     "text": [
      "Detected language: English\n"
     ]
    },
    {
     "name": "stderr",
     "output_type": "stream",
     "text": [
      " 99%|█████████████████████████████████████████████████████████████████████████▉ | 438348/444348 [02:18<00:01, 3163.60frames/s]\n"
     ]
    },
    {
     "name": "stdout",
     "output_type": "stream",
     "text": [
      "Detected language: English\n"
     ]
    },
    {
     "name": "stderr",
     "output_type": "stream",
     "text": [
      " 51%|██████████████████████████████████████                                     | 230000/452560 [01:07<00:57, 3844.39frames/s]"
     ]
    }
   ],
   "source": [
    "import whisper\n",
    "import os\n",
    "\n",
    "def run_model(size, directory):\n",
    "    \n",
    "    model = whisper.load_model(size)\n",
    "    audio_files = os.listdir(directory)\n",
    "    \n",
    "    for path in audio_files:\n",
    "    if path.startswith(\".\"):\n",
    "        pass\n",
    "    else:\n",
    "        result = model.transcribe(directory + \"/\" + path, verbose=False)\n",
    "        file = open(\"Transcripts/\" + size + \"-\" + path[:path.rindex(\".\")] + \".txt\", \"w\")\n",
    "        file.write(result[\"text\"])\n",
    "        file.close()\n",
    "        \n",
    "# Options\n",
    "accepted_sizes = [\"tiny\", \"base\", \"small\", \"medium\", \"large\"]\n",
    "good_to_go = True\n",
    "try:\n",
    "    size = input(\"Enter model size for Whisper to use (leave empty to default to \\\"base\\\"): \").lower()\n",
    "    if size == \"\":\n",
    "        size = \"base\"\n",
    "    elif size not in accepted_sizes:\n",
    "        raise Exception\n",
    "    \n",
    "    directory = input(\"Enter name of directory containing audio files (leave empty to default to \\\"Audio\\\"): \")\n",
    "    if directory == \"\":\n",
    "        directory = \"Audio\"\n",
    "except:\n",
    "    print(\"The given size is not accepted by Whisper.\\nTry one of the following: \", end=\"\")\n",
    "    print(*accepted_sizes, sep = \", \")\n",
    "    good_to_go = False\n",
    "    \n",
    "# Make directory for transcripts\n",
    "try:\n",
    "    os.mkdir(\"Transcripts\")\n",
    "except:\n",
    "    pass # No need to make a directory if it already exists\n",
    "\n",
    "# Only works if proper size and audio directory are selected\n",
    "if good_to_go:\n",
    "    print(\"Running\", size, \"Whisper model over\", directory, \"...\")\n",
    "    run_model(size, directory)"
   ]
  },
  {
   "cell_type": "code",
   "execution_count": null,
   "id": "6054a617",
   "metadata": {},
   "outputs": [],
   "source": []
  }
 ],
 "metadata": {
  "kernelspec": {
   "display_name": "Python 3 (ipykernel)",
   "language": "python",
   "name": "python3"
  },
  "language_info": {
   "codemirror_mode": {
    "name": "ipython",
    "version": 3
   },
   "file_extension": ".py",
   "mimetype": "text/x-python",
   "name": "python",
   "nbconvert_exporter": "python",
   "pygments_lexer": "ipython3",
   "version": "3.9.13"
  }
 },
 "nbformat": 4,
 "nbformat_minor": 5
}
