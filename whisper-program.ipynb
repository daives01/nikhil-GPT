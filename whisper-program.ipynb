{
 "cells": [
  {
   "cell_type": "code",
   "execution_count": 2,
   "id": "13ae3525",
   "metadata": {},
   "outputs": [
    {
     "name": "stdout",
     "output_type": "stream",
     "text": [
      "Enter model size for Whisper to use (leave empty to default to \"base\"): \n",
      "Enter name of directory containing audio files (leave empty to default to \"Audio\"): \n",
      "Running base Whisper model over Audio ...\n"
     ]
    },
    {
     "name": "stderr",
     "output_type": "stream",
     "text": [
      "100%|████████████████████████████████████████| 139M/139M [00:01<00:00, 117MiB/s]\n"
     ]
    },
    {
     "name": "stdout",
     "output_type": "stream",
     "text": [
      "Transcribing lecture3.mp3 ...\n"
     ]
    },
    {
     "name": "stderr",
     "output_type": "stream",
     "text": [
      " 99%|████████████████████████████▌| 446560/452560 [02:40<00:02, 2774.48frames/s]\n"
     ]
    },
    {
     "name": "stdout",
     "output_type": "stream",
     "text": [
      "Transcribing lecture7.mp3 ...\n"
     ]
    },
    {
     "name": "stderr",
     "output_type": "stream",
     "text": [
      " 99%|████████████████████████████▌| 440374/446374 [02:44<00:02, 2684.90frames/s]\n"
     ]
    },
    {
     "name": "stdout",
     "output_type": "stream",
     "text": [
      "Transcribing lecture8.mp3 ...\n"
     ]
    },
    {
     "name": "stderr",
     "output_type": "stream",
     "text": [
      " 98%|████████████████████████████▍| 301001/307001 [01:49<00:02, 2745.13frames/s]\n"
     ]
    },
    {
     "name": "stdout",
     "output_type": "stream",
     "text": [
      "Transcribing lecture12.mp3 ...\n"
     ]
    },
    {
     "name": "stderr",
     "output_type": "stream",
     "text": [
      " 98%|████████████████████████████▎| 246876/252876 [01:30<00:02, 2730.08frames/s]\n"
     ]
    },
    {
     "name": "stdout",
     "output_type": "stream",
     "text": [
      "Transcribing lecture1.mp3 ...\n"
     ]
    },
    {
     "name": "stderr",
     "output_type": "stream",
     "text": [
      " 98%|████████████████████████████▍| 331446/337446 [02:32<00:02, 2170.57frames/s]\n"
     ]
    },
    {
     "name": "stdout",
     "output_type": "stream",
     "text": [
      "Transcribing lecture19.mp3 ...\n"
     ]
    },
    {
     "name": "stderr",
     "output_type": "stream",
     "text": [
      "100%|█████████████████████████████| 262425/262425 [01:32<00:00, 2822.68frames/s]\n"
     ]
    },
    {
     "name": "stdout",
     "output_type": "stream",
     "text": [
      "Transcribing lecture4.mp3 ...\n"
     ]
    },
    {
     "name": "stderr",
     "output_type": "stream",
     "text": [
      " 98%|████████████████████████████▌| 390681/396681 [02:29<00:02, 2617.80frames/s]\n"
     ]
    },
    {
     "name": "stdout",
     "output_type": "stream",
     "text": [
      "Transcribing lecture14.mp3 ...\n"
     ]
    },
    {
     "name": "stderr",
     "output_type": "stream",
     "text": [
      "100%|█████████████████████████████| 405200/405200 [02:34<00:00, 2615.69frames/s]\n"
     ]
    },
    {
     "name": "stdout",
     "output_type": "stream",
     "text": [
      "Transcribing lecture10.mp3 ...\n"
     ]
    },
    {
     "name": "stderr",
     "output_type": "stream",
     "text": [
      " 99%|████████████████████████████▊| 443604/446604 [02:51<00:01, 2592.59frames/s]\n"
     ]
    },
    {
     "name": "stdout",
     "output_type": "stream",
     "text": [
      "Transcribing lecture18.mp3 ...\n"
     ]
    },
    {
     "name": "stderr",
     "output_type": "stream",
     "text": [
      "100%|█████████████████████████████| 402272/402272 [02:19<00:00, 2875.04frames/s]\n"
     ]
    },
    {
     "name": "stdout",
     "output_type": "stream",
     "text": [
      "Transcribing lecture13.mp3 ...\n"
     ]
    },
    {
     "name": "stderr",
     "output_type": "stream",
     "text": [
      "100%|█████████████████████████████| 406780/406780 [02:41<00:00, 2525.12frames/s]\n"
     ]
    },
    {
     "name": "stdout",
     "output_type": "stream",
     "text": [
      "Transcribing lecture17.mp3 ...\n"
     ]
    },
    {
     "name": "stderr",
     "output_type": "stream",
     "text": [
      " 98%|████████████████████████████▍| 452494/461494 [03:05<00:03, 2434.40frames/s]\n"
     ]
    },
    {
     "name": "stdout",
     "output_type": "stream",
     "text": [
      "Transcribing lecture15.mp3 ...\n"
     ]
    },
    {
     "name": "stderr",
     "output_type": "stream",
     "text": [
      " 99%|████████████████████████████▋| 289793/292793 [01:44<00:01, 2764.68frames/s]\n"
     ]
    },
    {
     "name": "stdout",
     "output_type": "stream",
     "text": [
      "Transcribing lecture2.mp3 ...\n"
     ]
    },
    {
     "name": "stderr",
     "output_type": "stream",
     "text": [
      " 99%|████████████████████████████▌| 438348/444348 [02:40<00:02, 2730.77frames/s]\n"
     ]
    },
    {
     "name": "stdout",
     "output_type": "stream",
     "text": [
      "Transcribing lecture11.mp3 ...\n"
     ]
    },
    {
     "name": "stderr",
     "output_type": "stream",
     "text": [
      " 99%|████████████████████████████▊| 436174/439174 [02:42<00:01, 2688.29frames/s]\n"
     ]
    },
    {
     "name": "stdout",
     "output_type": "stream",
     "text": [
      "Transcribing lecture6.mp3 ...\n"
     ]
    },
    {
     "name": "stderr",
     "output_type": "stream",
     "text": [
      " 99%|████████████████████████████▌| 417520/423520 [02:34<00:02, 2706.67frames/s]\n"
     ]
    },
    {
     "name": "stdout",
     "output_type": "stream",
     "text": [
      "Transcribing lecture16.mp3 ...\n"
     ]
    },
    {
     "name": "stderr",
     "output_type": "stream",
     "text": [
      "100%|█████████████████████████████| 378812/378812 [02:20<00:00, 2701.08frames/s]\n"
     ]
    },
    {
     "name": "stdout",
     "output_type": "stream",
     "text": [
      "Transcribing lecture5.mp3 ...\n"
     ]
    },
    {
     "name": "stderr",
     "output_type": "stream",
     "text": [
      " 99%|████████████████████████████▊| 432833/435833 [02:37<00:01, 2752.95frames/s]\n"
     ]
    },
    {
     "name": "stdout",
     "output_type": "stream",
     "text": [
      "Transcribing lecture9.mp3 ...\n"
     ]
    },
    {
     "name": "stderr",
     "output_type": "stream",
     "text": [
      " 98%|████████████████████████████▌| 342688/348688 [02:35<00:02, 2208.30frames/s]\n"
     ]
    }
   ],
   "source": [
    "import whisper\n",
    "import os\n",
    "\n",
    "def run_model(size, directory):\n",
    "    \n",
    "    try:\n",
    "        model = whisper.load_model(size + \".en\")\n",
    "    except:\n",
    "        model = whisper.load_model(size)\n",
    "    audio_files = os.listdir(directory)\n",
    "    \n",
    "    for path in audio_files:\n",
    "        if path.startswith(\".\"):\n",
    "            pass\n",
    "        else:\n",
    "            print(\"Transcribing\", path, \"...\")\n",
    "            result = model.transcribe(directory + \"/\" + path, verbose=False)\n",
    "            file = open(\"Transcripts/\" + size + \"-\" + path[:path.rindex(\".\")] + \".txt\", \"w\")\n",
    "            file.write(result[\"text\"])\n",
    "            file.close()\n",
    "        \n",
    "# Options\n",
    "accepted_sizes = [\"tiny\", \"base\", \"small\", \"medium\", \"large\"]\n",
    "good_to_go = True\n",
    "try:\n",
    "    size = input(\"Enter model size for Whisper to use (leave empty to default to \\\"base\\\"): \").lower()\n",
    "    if size == \"\":\n",
    "        size = \"base\"\n",
    "    elif size not in accepted_sizes:\n",
    "        raise Exception\n",
    "    \n",
    "    directory = input(\"Enter name of directory containing audio files (leave empty to default to \\\"Audio\\\"): \")\n",
    "    if directory == \"\":\n",
    "        directory = \"Audio\"\n",
    "except:\n",
    "    print(\"The given size is not accepted by Whisper.\\nTry one of the following: \", end=\"\")\n",
    "    print(*accepted_sizes, sep = \", \")\n",
    "    good_to_go = False\n",
    "    \n",
    "# Make directory for transcripts\n",
    "try:\n",
    "    os.mkdir(\"Transcripts\")\n",
    "except:\n",
    "    pass # No need to make a directory if it already exists\n",
    "\n",
    "# Only works if proper size and audio directory are selected\n",
    "if good_to_go:\n",
    "    print(\"Running\", size, \"Whisper model over\", directory, \"...\")\n",
    "    run_model(size, directory)"
   ]
  },
  {
   "cell_type": "code",
   "execution_count": null,
   "id": "4235d0e4",
   "metadata": {},
   "outputs": [],
   "source": []
  }
 ],
 "metadata": {
  "kernelspec": {
   "display_name": "Python 3 (ipykernel)",
   "language": "python",
   "name": "python3"
  },
  "language_info": {
   "codemirror_mode": {
    "name": "ipython",
    "version": 3
   },
   "file_extension": ".py",
   "mimetype": "text/x-python",
   "name": "python",
   "nbconvert_exporter": "python",
   "pygments_lexer": "ipython3",
   "version": "3.9.13"
  }
 },
 "nbformat": 4,
 "nbformat_minor": 5
}
